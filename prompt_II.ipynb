{
 "cells": [
  {
   "cell_type": "markdown",
   "metadata": {},
   "source": [
    "# What drives the price of a car?\n",
    "\n",
    "![](images/kurt.jpeg)"
   ]
  },
  {
   "cell_type": "markdown",
   "metadata": {},
   "source": [
    "**OVERVIEW**\n",
    "\n",
    "In this application, you will explore a dataset from Kaggle. The original dataset contained information on 3 million used cars. The provided dataset contains information on 426K cars to ensure speed of processing.  Your goal is to understand what factors make a car more or less expensive.  As a result of your analysis, you should provide clear recommendations to your client -- a used car dealership -- as to what consumers value in a used car."
   ]
  },
  {
   "cell_type": "markdown",
   "metadata": {},
   "source": [
    "### CRISP-DM Framework\n",
    "\n",
    "<center>\n",
    "    <img src = images/crisp.png width = 50%/>\n",
    "</center>\n",
    "\n",
    "\n",
    "To frame the task, throughout our practical applications, we will refer back to a standard process in industry for data projects called CRISP-DM.  This process provides a framework for working through a data problem.  Your first step in this application will be to read through a brief overview of CRISP-DM [here](https://mo-pcco.s3.us-east-1.amazonaws.com/BH-PCMLAI/module_11/readings_starter.zip).  After reading the overview, answer the questions below."
   ]
  },
  {
   "cell_type": "markdown",
   "metadata": {},
   "source": [
    "### Business Understanding\n",
    "\n",
    "From a business perspective, we are tasked with identifying key drivers for used car prices.  In the CRISP-DM overview, we are asked to convert this business framing to a data problem definition.  Using a few sentences, reframe the task as a data task with the appropriate technical vocabulary. "
   ]
  },
  {
   "cell_type": "code",
   "execution_count": 14,
   "metadata": {},
   "outputs": [
    {
     "name": "stdout",
     "output_type": "stream",
     "text": [
      "From data perspective, the task is to develop a predictive modeling framework to identify and quantify the key features that influence used car prices. This involves formulating a supervised regression problem where the target variable is the car price, and the input features may include attributes such as year, manufacturer, model, condition, cylinders, fuel, odometer,  title status, region etc. The objective is to use exploratory data analysis (EDA), feature engineering, and model training to identify the most impactful variables and accurately predict used car prices.\n"
     ]
    }
   ],
   "source": [
    "businessUnderstanding = \"\"\"From data perspective, the task is to develop a predictive modeling framework to identify and quantify the key features that influence used car prices. This involves formulating a supervised regression problem where the target variable is the car price, and the input features may include attributes such as year, manufacturer, model, condition, cylinders, fuel, odometer,  title status, region etc. The objective is to use exploratory data analysis (EDA), feature engineering, and model training to identify the most impactful variables and accurately predict used car prices.\"\"\"\n",
    "\n",
    "print(businessUnderstanding)"
   ]
  },
  {
   "cell_type": "code",
   "execution_count": null,
   "metadata": {},
   "outputs": [],
   "source": []
  },
  {
   "cell_type": "code",
   "execution_count": null,
   "metadata": {},
   "outputs": [],
   "source": []
  },
  {
   "cell_type": "code",
   "execution_count": null,
   "metadata": {},
   "outputs": [],
   "source": []
  },
  {
   "cell_type": "markdown",
   "metadata": {},
   "source": [
    "### Data Understanding\n",
    "\n",
    "After considering the business understanding, we want to get familiar with our data.  Write down some steps that you would take to get to know the dataset and identify any quality issues within.  Take time to get to know the dataset and explore what information it contains and how this could be used to inform your business understanding."
   ]
  },
  {
   "cell_type": "code",
   "execution_count": 15,
   "metadata": {},
   "outputs": [
    {
     "name": "stdout",
     "output_type": "stream",
     "text": [
      "<class 'pandas.core.frame.DataFrame'>\n",
      "RangeIndex: 426880 entries, 0 to 426879\n",
      "Data columns (total 18 columns):\n",
      " #   Column        Non-Null Count   Dtype  \n",
      "---  ------        --------------   -----  \n",
      " 0   id            426880 non-null  int64  \n",
      " 1   region        426880 non-null  object \n",
      " 2   price         426880 non-null  int64  \n",
      " 3   year          425675 non-null  float64\n",
      " 4   manufacturer  409234 non-null  object \n",
      " 5   model         421603 non-null  object \n",
      " 6   condition     252776 non-null  object \n",
      " 7   cylinders     249202 non-null  object \n",
      " 8   fuel          423867 non-null  object \n",
      " 9   odometer      422480 non-null  float64\n",
      " 10  title_status  418638 non-null  object \n",
      " 11  transmission  424324 non-null  object \n",
      " 12  VIN           265838 non-null  object \n",
      " 13  drive         296313 non-null  object \n",
      " 14  size          120519 non-null  object \n",
      " 15  type          334022 non-null  object \n",
      " 16  paint_color   296677 non-null  object \n",
      " 17  state         426880 non-null  object \n",
      "dtypes: float64(2), int64(2), object(14)\n",
      "memory usage: 58.6+ MB\n"
     ]
    },
    {
     "data": {
      "application/vnd.microsoft.datawrangler.viewer.v0+json": {
       "columns": [
        {
         "name": "index",
         "rawType": "object",
         "type": "string"
        },
        {
         "name": "id",
         "rawType": "float64",
         "type": "float"
        },
        {
         "name": "region",
         "rawType": "object",
         "type": "unknown"
        },
        {
         "name": "price",
         "rawType": "float64",
         "type": "float"
        },
        {
         "name": "year",
         "rawType": "float64",
         "type": "float"
        },
        {
         "name": "manufacturer",
         "rawType": "object",
         "type": "unknown"
        },
        {
         "name": "model",
         "rawType": "object",
         "type": "unknown"
        },
        {
         "name": "condition",
         "rawType": "object",
         "type": "unknown"
        },
        {
         "name": "cylinders",
         "rawType": "object",
         "type": "unknown"
        },
        {
         "name": "fuel",
         "rawType": "object",
         "type": "unknown"
        },
        {
         "name": "odometer",
         "rawType": "float64",
         "type": "float"
        },
        {
         "name": "title_status",
         "rawType": "object",
         "type": "unknown"
        },
        {
         "name": "transmission",
         "rawType": "object",
         "type": "unknown"
        },
        {
         "name": "VIN",
         "rawType": "object",
         "type": "unknown"
        },
        {
         "name": "drive",
         "rawType": "object",
         "type": "unknown"
        },
        {
         "name": "size",
         "rawType": "object",
         "type": "unknown"
        },
        {
         "name": "type",
         "rawType": "object",
         "type": "unknown"
        },
        {
         "name": "paint_color",
         "rawType": "object",
         "type": "unknown"
        },
        {
         "name": "state",
         "rawType": "object",
         "type": "unknown"
        }
       ],
       "ref": "b2644834-47f2-4341-9126-e1603613b676",
       "rows": [
        [
         "count",
         "426880.0",
         "426880",
         "426880.0",
         "425675.0",
         "409234",
         "421603",
         "252776",
         "249202",
         "423867",
         "422480.0",
         "418638",
         "424324",
         "265838",
         "296313",
         "120519",
         "334022",
         "296677",
         "426880"
        ],
        [
         "unique",
         null,
         "404",
         null,
         null,
         "42",
         "29649",
         "6",
         "8",
         "5",
         null,
         "6",
         "3",
         "118246",
         "3",
         "4",
         "13",
         "12",
         "51"
        ],
        [
         "top",
         null,
         "columbus",
         null,
         null,
         "ford",
         "f-150",
         "good",
         "6 cylinders",
         "gas",
         null,
         "clean",
         "automatic",
         "1FMJU1JT1HEA52352",
         "4wd",
         "full-size",
         "sedan",
         "white",
         "ca"
        ],
        [
         "freq",
         null,
         "3608",
         null,
         null,
         "70985",
         "8009",
         "121456",
         "94169",
         "356209",
         null,
         "405117",
         "336524",
         "261",
         "131904",
         "63465",
         "87056",
         "79285",
         "50614"
        ],
        [
         "mean",
         "7311486634.224333",
         null,
         "75199.0331873126",
         "2011.23519116697",
         null,
         null,
         null,
         null,
         null,
         "98043.33144290854",
         null,
         null,
         null,
         null,
         null,
         null,
         null,
         null
        ],
        [
         "std",
         "4473170.412559299",
         null,
         "12182282.173597954",
         "9.452119581503126",
         null,
         null,
         null,
         null,
         null,
         "213881.5007979891",
         null,
         null,
         null,
         null,
         null,
         null,
         null,
         null
        ],
        [
         "min",
         "7207408119.0",
         null,
         "0.0",
         "1900.0",
         null,
         null,
         null,
         null,
         null,
         "0.0",
         null,
         null,
         null,
         null,
         null,
         null,
         null,
         null
        ],
        [
         "25%",
         "7308143339.25",
         null,
         "5900.0",
         "2008.0",
         null,
         null,
         null,
         null,
         null,
         "37704.0",
         null,
         null,
         null,
         null,
         null,
         null,
         null,
         null
        ],
        [
         "50%",
         "7312620821.0",
         null,
         "13950.0",
         "2013.0",
         null,
         null,
         null,
         null,
         null,
         "85548.0",
         null,
         null,
         null,
         null,
         null,
         null,
         null,
         null
        ],
        [
         "75%",
         "7315253543.5",
         null,
         "26485.75",
         "2017.0",
         null,
         null,
         null,
         null,
         null,
         "133542.5",
         null,
         null,
         null,
         null,
         null,
         null,
         null,
         null
        ],
        [
         "max",
         "7317101084.0",
         null,
         "3736928711.0",
         "2022.0",
         null,
         null,
         null,
         null,
         null,
         "10000000.0",
         null,
         null,
         null,
         null,
         null,
         null,
         null,
         null
        ]
       ],
       "shape": {
        "columns": 18,
        "rows": 11
       }
      },
      "text/html": [
       "<div>\n",
       "<style scoped>\n",
       "    .dataframe tbody tr th:only-of-type {\n",
       "        vertical-align: middle;\n",
       "    }\n",
       "\n",
       "    .dataframe tbody tr th {\n",
       "        vertical-align: top;\n",
       "    }\n",
       "\n",
       "    .dataframe thead th {\n",
       "        text-align: right;\n",
       "    }\n",
       "</style>\n",
       "<table border=\"1\" class=\"dataframe\">\n",
       "  <thead>\n",
       "    <tr style=\"text-align: right;\">\n",
       "      <th></th>\n",
       "      <th>id</th>\n",
       "      <th>region</th>\n",
       "      <th>price</th>\n",
       "      <th>year</th>\n",
       "      <th>manufacturer</th>\n",
       "      <th>model</th>\n",
       "      <th>condition</th>\n",
       "      <th>cylinders</th>\n",
       "      <th>fuel</th>\n",
       "      <th>odometer</th>\n",
       "      <th>title_status</th>\n",
       "      <th>transmission</th>\n",
       "      <th>VIN</th>\n",
       "      <th>drive</th>\n",
       "      <th>size</th>\n",
       "      <th>type</th>\n",
       "      <th>paint_color</th>\n",
       "      <th>state</th>\n",
       "    </tr>\n",
       "  </thead>\n",
       "  <tbody>\n",
       "    <tr>\n",
       "      <th>count</th>\n",
       "      <td>4.268800e+05</td>\n",
       "      <td>426880</td>\n",
       "      <td>4.268800e+05</td>\n",
       "      <td>425675.000000</td>\n",
       "      <td>409234</td>\n",
       "      <td>421603</td>\n",
       "      <td>252776</td>\n",
       "      <td>249202</td>\n",
       "      <td>423867</td>\n",
       "      <td>4.224800e+05</td>\n",
       "      <td>418638</td>\n",
       "      <td>424324</td>\n",
       "      <td>265838</td>\n",
       "      <td>296313</td>\n",
       "      <td>120519</td>\n",
       "      <td>334022</td>\n",
       "      <td>296677</td>\n",
       "      <td>426880</td>\n",
       "    </tr>\n",
       "    <tr>\n",
       "      <th>unique</th>\n",
       "      <td>NaN</td>\n",
       "      <td>404</td>\n",
       "      <td>NaN</td>\n",
       "      <td>NaN</td>\n",
       "      <td>42</td>\n",
       "      <td>29649</td>\n",
       "      <td>6</td>\n",
       "      <td>8</td>\n",
       "      <td>5</td>\n",
       "      <td>NaN</td>\n",
       "      <td>6</td>\n",
       "      <td>3</td>\n",
       "      <td>118246</td>\n",
       "      <td>3</td>\n",
       "      <td>4</td>\n",
       "      <td>13</td>\n",
       "      <td>12</td>\n",
       "      <td>51</td>\n",
       "    </tr>\n",
       "    <tr>\n",
       "      <th>top</th>\n",
       "      <td>NaN</td>\n",
       "      <td>columbus</td>\n",
       "      <td>NaN</td>\n",
       "      <td>NaN</td>\n",
       "      <td>ford</td>\n",
       "      <td>f-150</td>\n",
       "      <td>good</td>\n",
       "      <td>6 cylinders</td>\n",
       "      <td>gas</td>\n",
       "      <td>NaN</td>\n",
       "      <td>clean</td>\n",
       "      <td>automatic</td>\n",
       "      <td>1FMJU1JT1HEA52352</td>\n",
       "      <td>4wd</td>\n",
       "      <td>full-size</td>\n",
       "      <td>sedan</td>\n",
       "      <td>white</td>\n",
       "      <td>ca</td>\n",
       "    </tr>\n",
       "    <tr>\n",
       "      <th>freq</th>\n",
       "      <td>NaN</td>\n",
       "      <td>3608</td>\n",
       "      <td>NaN</td>\n",
       "      <td>NaN</td>\n",
       "      <td>70985</td>\n",
       "      <td>8009</td>\n",
       "      <td>121456</td>\n",
       "      <td>94169</td>\n",
       "      <td>356209</td>\n",
       "      <td>NaN</td>\n",
       "      <td>405117</td>\n",
       "      <td>336524</td>\n",
       "      <td>261</td>\n",
       "      <td>131904</td>\n",
       "      <td>63465</td>\n",
       "      <td>87056</td>\n",
       "      <td>79285</td>\n",
       "      <td>50614</td>\n",
       "    </tr>\n",
       "    <tr>\n",
       "      <th>mean</th>\n",
       "      <td>7.311487e+09</td>\n",
       "      <td>NaN</td>\n",
       "      <td>7.519903e+04</td>\n",
       "      <td>2011.235191</td>\n",
       "      <td>NaN</td>\n",
       "      <td>NaN</td>\n",
       "      <td>NaN</td>\n",
       "      <td>NaN</td>\n",
       "      <td>NaN</td>\n",
       "      <td>9.804333e+04</td>\n",
       "      <td>NaN</td>\n",
       "      <td>NaN</td>\n",
       "      <td>NaN</td>\n",
       "      <td>NaN</td>\n",
       "      <td>NaN</td>\n",
       "      <td>NaN</td>\n",
       "      <td>NaN</td>\n",
       "      <td>NaN</td>\n",
       "    </tr>\n",
       "    <tr>\n",
       "      <th>std</th>\n",
       "      <td>4.473170e+06</td>\n",
       "      <td>NaN</td>\n",
       "      <td>1.218228e+07</td>\n",
       "      <td>9.452120</td>\n",
       "      <td>NaN</td>\n",
       "      <td>NaN</td>\n",
       "      <td>NaN</td>\n",
       "      <td>NaN</td>\n",
       "      <td>NaN</td>\n",
       "      <td>2.138815e+05</td>\n",
       "      <td>NaN</td>\n",
       "      <td>NaN</td>\n",
       "      <td>NaN</td>\n",
       "      <td>NaN</td>\n",
       "      <td>NaN</td>\n",
       "      <td>NaN</td>\n",
       "      <td>NaN</td>\n",
       "      <td>NaN</td>\n",
       "    </tr>\n",
       "    <tr>\n",
       "      <th>min</th>\n",
       "      <td>7.207408e+09</td>\n",
       "      <td>NaN</td>\n",
       "      <td>0.000000e+00</td>\n",
       "      <td>1900.000000</td>\n",
       "      <td>NaN</td>\n",
       "      <td>NaN</td>\n",
       "      <td>NaN</td>\n",
       "      <td>NaN</td>\n",
       "      <td>NaN</td>\n",
       "      <td>0.000000e+00</td>\n",
       "      <td>NaN</td>\n",
       "      <td>NaN</td>\n",
       "      <td>NaN</td>\n",
       "      <td>NaN</td>\n",
       "      <td>NaN</td>\n",
       "      <td>NaN</td>\n",
       "      <td>NaN</td>\n",
       "      <td>NaN</td>\n",
       "    </tr>\n",
       "    <tr>\n",
       "      <th>25%</th>\n",
       "      <td>7.308143e+09</td>\n",
       "      <td>NaN</td>\n",
       "      <td>5.900000e+03</td>\n",
       "      <td>2008.000000</td>\n",
       "      <td>NaN</td>\n",
       "      <td>NaN</td>\n",
       "      <td>NaN</td>\n",
       "      <td>NaN</td>\n",
       "      <td>NaN</td>\n",
       "      <td>3.770400e+04</td>\n",
       "      <td>NaN</td>\n",
       "      <td>NaN</td>\n",
       "      <td>NaN</td>\n",
       "      <td>NaN</td>\n",
       "      <td>NaN</td>\n",
       "      <td>NaN</td>\n",
       "      <td>NaN</td>\n",
       "      <td>NaN</td>\n",
       "    </tr>\n",
       "    <tr>\n",
       "      <th>50%</th>\n",
       "      <td>7.312621e+09</td>\n",
       "      <td>NaN</td>\n",
       "      <td>1.395000e+04</td>\n",
       "      <td>2013.000000</td>\n",
       "      <td>NaN</td>\n",
       "      <td>NaN</td>\n",
       "      <td>NaN</td>\n",
       "      <td>NaN</td>\n",
       "      <td>NaN</td>\n",
       "      <td>8.554800e+04</td>\n",
       "      <td>NaN</td>\n",
       "      <td>NaN</td>\n",
       "      <td>NaN</td>\n",
       "      <td>NaN</td>\n",
       "      <td>NaN</td>\n",
       "      <td>NaN</td>\n",
       "      <td>NaN</td>\n",
       "      <td>NaN</td>\n",
       "    </tr>\n",
       "    <tr>\n",
       "      <th>75%</th>\n",
       "      <td>7.315254e+09</td>\n",
       "      <td>NaN</td>\n",
       "      <td>2.648575e+04</td>\n",
       "      <td>2017.000000</td>\n",
       "      <td>NaN</td>\n",
       "      <td>NaN</td>\n",
       "      <td>NaN</td>\n",
       "      <td>NaN</td>\n",
       "      <td>NaN</td>\n",
       "      <td>1.335425e+05</td>\n",
       "      <td>NaN</td>\n",
       "      <td>NaN</td>\n",
       "      <td>NaN</td>\n",
       "      <td>NaN</td>\n",
       "      <td>NaN</td>\n",
       "      <td>NaN</td>\n",
       "      <td>NaN</td>\n",
       "      <td>NaN</td>\n",
       "    </tr>\n",
       "    <tr>\n",
       "      <th>max</th>\n",
       "      <td>7.317101e+09</td>\n",
       "      <td>NaN</td>\n",
       "      <td>3.736929e+09</td>\n",
       "      <td>2022.000000</td>\n",
       "      <td>NaN</td>\n",
       "      <td>NaN</td>\n",
       "      <td>NaN</td>\n",
       "      <td>NaN</td>\n",
       "      <td>NaN</td>\n",
       "      <td>1.000000e+07</td>\n",
       "      <td>NaN</td>\n",
       "      <td>NaN</td>\n",
       "      <td>NaN</td>\n",
       "      <td>NaN</td>\n",
       "      <td>NaN</td>\n",
       "      <td>NaN</td>\n",
       "      <td>NaN</td>\n",
       "      <td>NaN</td>\n",
       "    </tr>\n",
       "  </tbody>\n",
       "</table>\n",
       "</div>"
      ],
      "text/plain": [
       "                  id    region         price           year manufacturer  \\\n",
       "count   4.268800e+05    426880  4.268800e+05  425675.000000       409234   \n",
       "unique           NaN       404           NaN            NaN           42   \n",
       "top              NaN  columbus           NaN            NaN         ford   \n",
       "freq             NaN      3608           NaN            NaN        70985   \n",
       "mean    7.311487e+09       NaN  7.519903e+04    2011.235191          NaN   \n",
       "std     4.473170e+06       NaN  1.218228e+07       9.452120          NaN   \n",
       "min     7.207408e+09       NaN  0.000000e+00    1900.000000          NaN   \n",
       "25%     7.308143e+09       NaN  5.900000e+03    2008.000000          NaN   \n",
       "50%     7.312621e+09       NaN  1.395000e+04    2013.000000          NaN   \n",
       "75%     7.315254e+09       NaN  2.648575e+04    2017.000000          NaN   \n",
       "max     7.317101e+09       NaN  3.736929e+09    2022.000000          NaN   \n",
       "\n",
       "         model condition    cylinders    fuel      odometer title_status  \\\n",
       "count   421603    252776       249202  423867  4.224800e+05       418638   \n",
       "unique   29649         6            8       5           NaN            6   \n",
       "top      f-150      good  6 cylinders     gas           NaN        clean   \n",
       "freq      8009    121456        94169  356209           NaN       405117   \n",
       "mean       NaN       NaN          NaN     NaN  9.804333e+04          NaN   \n",
       "std        NaN       NaN          NaN     NaN  2.138815e+05          NaN   \n",
       "min        NaN       NaN          NaN     NaN  0.000000e+00          NaN   \n",
       "25%        NaN       NaN          NaN     NaN  3.770400e+04          NaN   \n",
       "50%        NaN       NaN          NaN     NaN  8.554800e+04          NaN   \n",
       "75%        NaN       NaN          NaN     NaN  1.335425e+05          NaN   \n",
       "max        NaN       NaN          NaN     NaN  1.000000e+07          NaN   \n",
       "\n",
       "       transmission                VIN   drive       size    type paint_color  \\\n",
       "count        424324             265838  296313     120519  334022      296677   \n",
       "unique            3             118246       3          4      13          12   \n",
       "top       automatic  1FMJU1JT1HEA52352     4wd  full-size   sedan       white   \n",
       "freq         336524                261  131904      63465   87056       79285   \n",
       "mean            NaN                NaN     NaN        NaN     NaN         NaN   \n",
       "std             NaN                NaN     NaN        NaN     NaN         NaN   \n",
       "min             NaN                NaN     NaN        NaN     NaN         NaN   \n",
       "25%             NaN                NaN     NaN        NaN     NaN         NaN   \n",
       "50%             NaN                NaN     NaN        NaN     NaN         NaN   \n",
       "75%             NaN                NaN     NaN        NaN     NaN         NaN   \n",
       "max             NaN                NaN     NaN        NaN     NaN         NaN   \n",
       "\n",
       "         state  \n",
       "count   426880  \n",
       "unique      51  \n",
       "top         ca  \n",
       "freq     50614  \n",
       "mean       NaN  \n",
       "std        NaN  \n",
       "min        NaN  \n",
       "25%        NaN  \n",
       "50%        NaN  \n",
       "75%        NaN  \n",
       "max        NaN  "
      ]
     },
     "execution_count": 15,
     "metadata": {},
     "output_type": "execute_result"
    }
   ],
   "source": [
    "import pandas as pd\n",
    "import numpy as np\n",
    "import seaborn as sns\n",
    "import matplotlib.pyplot as plt\n",
    "from sklearn.linear_model import Lasso\n",
    "from sklearn.preprocessing import StandardScaler\n",
    "from sklearn.pipeline import Pipeline\n",
    "from sklearn.metrics import mean_squared_error\n",
    "from sklearn.model_selection import train_test_split, GridSearchCV\n",
    "from sklearn.compose import make_column_transformer\n",
    "from sklearn.pipeline import Pipeline\n",
    "from sklearn.preprocessing import OneHotEncoder\n",
    "from sklearn.linear_model import LinearRegression\n",
    "\n",
    "\n",
    "from sklearn import set_config\n",
    "set_config(display=\"diagram\")\n",
    "\n",
    "df = pd.read_csv('data/vehicles.csv')\n",
    "\n",
    "df.info()\n",
    "df.head()\n",
    "df.describe(include='all')"
   ]
  },
  {
   "cell_type": "code",
   "execution_count": null,
   "metadata": {},
   "outputs": [],
   "source": []
  },
  {
   "cell_type": "code",
   "execution_count": 16,
   "metadata": {},
   "outputs": [
    {
     "data": {
      "image/png": "[encoded data removed]",
      "text/plain": [
       "<Figure size 1500x400 with 2 Axes>"
      ]
     },
     "metadata": {},
     "output_type": "display_data"
    },
    {
     "data": {
      "image/png": "[encoded data removed]",
      "text/plain": [
       "<Figure size 1500x400 with 2 Axes>"
      ]
     },
     "metadata": {},
     "output_type": "display_data"
    },
    {
     "data": {
      "image/png": "[encoded data removed]",
      "text/plain": [
       "<Figure size 1500x1000 with 4 Axes>"
      ]
     },
     "metadata": {},
     "output_type": "display_data"
    },
    {
     "data": {
      "image/png": "[encoded data removed]",
      "text/plain": [
       "<Figure size 1000x800 with 2 Axes>"
      ]
     },
     "metadata": {},
     "output_type": "display_data"
    }
   ],
   "source": [
    "\n",
    "\n",
    "fig, axes = plt.subplots(1,2, figsize=(15, 4))\n",
    "# --- 1. Distribution of Price ---\n",
    "sns.histplot(df['price'], bins=50, kde=True, ax=axes[0])\n",
    "axes[0].set_title('Distribution of Used Car Prices')\n",
    "plt.xlabel('Price')\n",
    "plt.ylabel('Count')\n",
    "axes[1].ticklabel_format(style='plain')\n",
    "\n",
    "sns.boxplot(y='price', data=df, ax=axes[1])\n",
    "axes[1].set_title('Price Boxplot')\n",
    "plt.tight_layout()\n",
    "plt.show()\n",
    "\n",
    "fig, axes = plt.subplots(1,2, figsize=(15, 4))\n",
    "# --- 1. Distribution of Odometer Readings ---\n",
    "sns.histplot(df['odometer'], bins=50, kde=True, ax=axes[0])\n",
    "axes[0].set_title('Distribution of odometer readings')\n",
    "plt.ticklabel_format(style='plain')\n",
    "plt.xlabel('Odometer')\n",
    "plt.ylabel('Count')\n",
    "axes[1].ticklabel_format(style='plain')\n",
    "\n",
    "sns.boxplot(y='odometer', data=df, ax=axes[1])\n",
    "axes[1].set_title('Odometer Boxplot')\n",
    "plt.tight_layout()\n",
    "plt.show()\n",
    "\n",
    "\n",
    "fig, axes = plt.subplots(2,2, figsize=(15, 10))\n",
    "# --- 2. Price vs Title Status ---\n",
    "sns.scatterplot(x='title_status', y='price', data=df, alpha=0.3, ax=axes[0,0])\n",
    "axes[0,0].set_title('Price vs Title Status')\n",
    "plt.xlabel('Title Status')\n",
    "plt.ylabel('Price')\n",
    "\n",
    "# --- 3. Price by Manufacturer (Top 10) ---\n",
    "top_makes = df['manufacturer'].value_counts().head(10).index\n",
    "sns.boxplot(x='manufacturer', y='price', data=df[df['manufacturer'].isin(top_makes)], ax=axes[0,1])\n",
    "axes[0,1].set_title('Price by Top 10 Manufacturers')\n",
    "plt.xticks(rotation=45)\n",
    "\n",
    "# --- 4. Price by Condition ---\n",
    "sns.boxplot(x='condition', y='price', data=df, ax=axes[1,0])\n",
    "axes[1,0].set_title('Price by Condition')\n",
    "\n",
    "# --- 5. Price vs Odometer ---\n",
    "sns.scatterplot(x='odometer', y='price', data=df, alpha=0.3, ax=axes[1,1])\n",
    "axes[1,1].set_title('Price vs Odometer')\n",
    "plt.ticklabel_format(style='plain')\n",
    "plt.xlabel('Odometer')\n",
    "plt.ylabel('Price')\n",
    "\n",
    "plt.tight_layout()\n",
    "plt.show()\n",
    "\n",
    "# --- 6. Correlation Heatmap ---\n",
    "plt.figure(figsize=(10, 8))\n",
    "numeric_df = df.select_dtypes(include=np.number)\n",
    "corr = numeric_df.drop('id', axis=1).corr()\n",
    "sns.heatmap(corr, annot=True, cmap='coolwarm', fmt='.2f')\n",
    "plt.title(\"Correlation Heatmap\")\n",
    "plt.show()"
   ]
  },
  {
   "cell_type": "code",
   "execution_count": 17,
   "metadata": {},
   "outputs": [
    {
     "name": "stdout",
     "output_type": "stream",
     "text": [
      "% of null values in each column:\n",
      "size            71.767476\n",
      "cylinders       41.622470\n",
      "condition       40.785232\n",
      "VIN             37.725356\n",
      "drive           30.586347\n",
      "paint_color     30.501078\n",
      "type            21.752717\n",
      "manufacturer     4.133714\n",
      "title_status     1.930753\n",
      "model            1.236179\n",
      "odometer         1.030735\n",
      "fuel             0.705819\n",
      "transmission     0.598763\n",
      "year             0.282281\n",
      "region           0.000000\n",
      "id               0.000000\n",
      "price            0.000000\n",
      "state            0.000000\n",
      "dtype: float64\n"
     ]
    }
   ],
   "source": [
    "#Check for null values percentage in each column\n",
    "null_percentages = (df.isnull().sum() / len(df)) * 100\n",
    "print('% of null values in each column:')\n",
    "print(null_percentages.sort_values(ascending=False))"
   ]
  },
  {
   "cell_type": "code",
   "execution_count": null,
   "metadata": {},
   "outputs": [],
   "source": []
  },
  {
   "cell_type": "markdown",
   "metadata": {},
   "source": [
    "### Data Preparation\n",
    "\n",
    "After our initial exploration and fine-tuning of the business understanding, it is time to construct our final dataset prior to modeling.  Here, we want to make sure to handle any integrity issues and cleaning, the engineering of new features, any transformations that we believe should happen (scaling, logarithms, normalization, etc.), and general preparation for modeling with `sklearn`. "
   ]
  },
  {
   "cell_type": "code",
   "execution_count": 18,
   "metadata": {},
   "outputs": [
    {
     "name": "stdout",
     "output_type": "stream",
     "text": [
      "Original shape: (426880, 18)\n",
      "Column: manufacturer, Unique Values: [nan 'gmc' 'chevrolet' 'toyota' 'ford' 'jeep' 'nissan' 'ram' 'mazda'\n",
      " 'cadillac' 'honda' 'dodge' 'lexus' 'jaguar' 'buick' 'chrysler' 'volvo'\n",
      " 'audi' 'infiniti' 'lincoln' 'alfa-romeo' 'subaru' 'acura' 'hyundai'\n",
      " 'mercedes-benz' 'bmw' 'mitsubishi' 'volkswagen' 'porsche' 'kia' 'rover'\n",
      " 'ferrari' 'mini' 'pontiac' 'fiat' 'tesla' 'saturn' 'mercury'\n",
      " 'harley-davidson' 'datsun' 'aston-martin' 'land rover' 'morgan']\n",
      "Column: condition, Unique Values: [nan 'good' 'excellent' 'fair' 'like new' 'new' 'salvage']\n",
      "Column: cylinders, Unique Values: [nan '8 cylinders' '6 cylinders' '4 cylinders' '5 cylinders' 'other'\n",
      " '3 cylinders' '10 cylinders' '12 cylinders']\n",
      "Column: fuel, Unique Values: [nan 'gas' 'other' 'diesel' 'hybrid' 'electric']\n",
      "Column: title_status, Unique Values: [nan 'clean' 'rebuilt' 'lien' 'salvage' 'missing' 'parts only']\n",
      "Column: transmission, Unique Values: [nan 'other' 'automatic' 'manual']\n",
      "Column: drive, Unique Values: [nan 'rwd' '4wd' 'fwd']\n",
      "Column: size, Unique Values: [nan 'full-size' 'mid-size' 'compact' 'sub-compact']\n",
      "Column: type, Unique Values: [nan 'pickup' 'truck' 'other' 'coupe' 'SUV' 'hatchback' 'mini-van' 'sedan'\n",
      " 'offroad' 'bus' 'van' 'convertible' 'wagon']\n",
      "Column: paint_color, Unique Values: [nan 'white' 'blue' 'red' 'black' 'silver' 'grey' 'brown' 'yellow'\n",
      " 'orange' 'green' 'custom' 'purple']\n",
      "Column: state, Unique Values: ['az' 'ar' 'fl' 'ma' 'nc' 'ny' 'or' 'pa' 'tx' 'wa' 'wi' 'al' 'ak' 'ca'\n",
      " 'co' 'ct' 'dc' 'de' 'ga' 'hi' 'id' 'il' 'in' 'ia' 'ks' 'ky' 'la' 'me'\n",
      " 'md' 'mi' 'mn' 'ms' 'mo' 'mt' 'ne' 'nv' 'nj' 'nm' 'nh' 'nd' 'oh' 'ok'\n",
      " 'ri' 'sc' 'sd' 'tn' 'ut' 'vt' 'va' 'wv' 'wy']\n",
      "price           0.0\n",
      "year            0.0\n",
      "manufacturer    0.0\n",
      "condition       0.0\n",
      "cylinders       0.0\n",
      "fuel            0.0\n",
      "odometer        0.0\n",
      "title_status    0.0\n",
      "transmission    0.0\n",
      "drive           0.0\n",
      "type            0.0\n",
      "paint_color     0.0\n",
      "dtype: float64\n",
      "Cleaned shape: (240910, 12)\n"
     ]
    }
   ],
   "source": [
    "print('Original shape:', df.shape)\n",
    "\n",
    "# Find and remove outliers in 'price' and 'odometer' using IQR method\n",
    "def remove_outliers(df, column):\n",
    "    Q1 = df[column].quantile(0.25)\n",
    "    Q3 = df[column].quantile(0.75)\n",
    "    IQR = Q3 - Q1\n",
    "    lower = Q1 - 1.5 * IQR\n",
    "    upper = Q3 + 1.5 * IQR\n",
    "    return df[(df[column] >= lower) & (df[column] <= upper)]\n",
    "\n",
    "# Remove outliers in 'price'\n",
    "df_cleaned = remove_outliers(df, 'price')\n",
    "\n",
    "# Remove outliers in 'odometer' (if column exists and is not all NaN)\n",
    "if 'odometer' in df_cleaned.columns and df_cleaned['odometer'].notnull().any():\n",
    "    df_cleaned = remove_outliers(df_cleaned, 'odometer')\n",
    "\n",
    "# Drop columns having too many missing values or irrelevant\n",
    "df_cleaned = df_cleaned.drop(columns=['id', 'VIN', 'state', 'size',  'region', 'model'], errors='ignore')\n",
    "\n",
    "# Fill missing values\n",
    "object_columns = df.select_dtypes(include='object')\n",
    "\n",
    "for column in object_columns.columns:\n",
    "    if object_columns[column].nunique() < 100:  # Only print columns with fewer than 100 unique values\n",
    "      print(f\"Column: {column}, Unique Values: {object_columns[column].unique()}\")\n",
    "\n",
    "df_cleaned.fillna({'cylenders':'other', 'condition':'fair', 'fuel':'other','transmission':'other', 'manufacturer': 'unknown', 'type': 'other', 'paint_color': 'other', 'title_status': 'unknown',  'drive': 'unknown', 'year': df['year'].median(), 'odometer': df['odometer'].median()}, inplace=True)\n",
    "\n",
    "df_cleaned = df_cleaned.dropna()\n",
    "print((df_cleaned.isnull().sum() / len(df_cleaned)) * 100)\n",
    "print('Cleaned shape:', df_cleaned.shape)\n"
   ]
  },
  {
   "cell_type": "code",
   "execution_count": null,
   "metadata": {},
   "outputs": [],
   "source": [
    "\n"
   ]
  },
  {
   "cell_type": "code",
   "execution_count": null,
   "metadata": {},
   "outputs": [],
   "source": []
  },
  {
   "cell_type": "code",
   "execution_count": null,
   "metadata": {},
   "outputs": [],
   "source": []
  },
  {
   "cell_type": "markdown",
   "metadata": {},
   "source": [
    "### Modeling\n",
    "\n",
    "With your (almost?) final dataset in hand, it is now time to build some models.  Here, you should build a number of different regression models with the price as the target.  In building your models, you should explore different parameters and be sure to cross-validate your findings."
   ]
  },
  {
   "cell_type": "code",
   "execution_count": 19,
   "metadata": {},
   "outputs": [],
   "source": [
    "X = df_cleaned.drop(columns=['price'], axis=1)\n",
    "y = df_cleaned['price']\n",
    "\n",
    "# Split the data into training and testing sets\n",
    "X_train, X_test, y_train, y_test = train_test_split(X, y, test_size=0.2, random_state=42, shuffle=True)\n",
    "\n",
    "# Encode categorical variables\n",
    "#['manufacturer', 'condition', 'cylinders', 'fuel', 'title_status','transmission', 'drive', 'type', 'paint_color']\n",
    "col_transformer = make_column_transformer(\n",
    "                                        (OneHotEncoder(drop = 'if_binary', handle_unknown='ignore'), df_cleaned.select_dtypes(include='object').columns,), \n",
    "                                         remainder= StandardScaler()\n",
    "                                         )\n"
   ]
  },
  {
   "cell_type": "code",
   "execution_count": 20,
   "metadata": {},
   "outputs": [
    {
     "name": "stdout",
     "output_type": "stream",
     "text": [
      "Training Score: 0.4760574590324992\n",
      "Test Score: 0.48109875109124123\n",
      "Mean Squared Error on Training Set: 86823177.32651417\n",
      "Mean Squared Error on Test Set: 85831893.879571\n"
     ]
    },
    {
     "data": {
      "application/vnd.microsoft.datawrangler.viewer.v0+json": {
       "columns": [
        {
         "name": "index",
         "rawType": "int64",
         "type": "integer"
        },
        {
         "name": "feature",
         "rawType": "object",
         "type": "string"
        }
       ],
       "ref": "1743070b-a2af-44be-aa0a-1fcee1b0fa85",
       "rows": [
        [
         "30",
         "manufacturer_morgan"
        ],
        [
         "38",
         "manufacturer_tesla"
        ],
        [
         "11",
         "manufacturer_ferrari"
        ],
        [
         "50",
         "cylinders_12 cylinders"
        ],
        [
         "12",
         "manufacturer_fiat"
        ],
        [
         "33",
         "manufacturer_porsche"
        ],
        [
         "9",
         "manufacturer_datsun"
        ],
        [
         "1",
         "manufacturer_alfa-romeo"
        ],
        [
         "57",
         "fuel_diesel"
        ],
        [
         "103",
         "odometer"
        ],
        [
         "56",
         "cylinders_other"
        ],
        [
         "51",
         "cylinders_3 cylinders"
        ],
        [
         "27",
         "manufacturer_mercury"
        ],
        [
         "2",
         "manufacturer_aston-martin"
        ],
        [
         "55",
         "cylinders_8 cylinders"
        ],
        [
         "63",
         "title_status_lien"
        ],
        [
         "65",
         "title_status_parts only"
        ],
        [
         "36",
         "manufacturer_saturn"
        ],
        [
         "8",
         "manufacturer_chrysler"
        ],
        [
         "29",
         "manufacturer_mitsubishi"
        ],
        [
         "77",
         "type_bus"
        ],
        [
         "15",
         "manufacturer_harley-davidson"
        ],
        [
         "84",
         "type_pickup"
        ],
        [
         "10",
         "manufacturer_dodge"
        ],
        [
         "71",
         "transmission_other"
        ],
        [
         "31",
         "manufacturer_nissan"
        ],
        [
         "96",
         "paint_color_other"
        ],
        [
         "102",
         "year"
        ],
        [
         "48",
         "condition_salvage"
        ],
        [
         "35",
         "manufacturer_rover"
        ],
        [
         "17",
         "manufacturer_hyundai"
        ],
        [
         "41",
         "manufacturer_volkswagen"
        ],
        [
         "80",
         "type_hatchback"
        ],
        [
         "69",
         "transmission_automatic"
        ],
        [
         "22",
         "manufacturer_land rover"
        ],
        [
         "23",
         "manufacturer_lexus"
        ],
        [
         "52",
         "cylinders_4 cylinders"
        ],
        [
         "59",
         "fuel_gas"
        ],
        [
         "21",
         "manufacturer_kia"
        ],
        [
         "62",
         "title_status_clean"
        ],
        [
         "28",
         "manufacturer_mini"
        ],
        [
         "3",
         "manufacturer_audi"
        ],
        [
         "85",
         "type_sedan"
        ],
        [
         "82",
         "type_offroad"
        ],
        [
         "73",
         "drive_fwd"
        ],
        [
         "53",
         "cylinders_5 cylinders"
        ],
        [
         "64",
         "title_status_missing"
        ],
        [
         "88",
         "type_wagon"
        ],
        [
         "25",
         "manufacturer_mazda"
        ],
        [
         "6",
         "manufacturer_cadillac"
        ]
       ],
       "shape": {
        "columns": 1,
        "rows": 104
       }
      },
      "text/plain": [
       "30       manufacturer_morgan\n",
       "38        manufacturer_tesla\n",
       "11      manufacturer_ferrari\n",
       "50    cylinders_12 cylinders\n",
       "12         manufacturer_fiat\n",
       "               ...          \n",
       "66      title_status_rebuilt\n",
       "58             fuel_electric\n",
       "16        manufacturer_honda\n",
       "90          paint_color_blue\n",
       "98           paint_color_red\n",
       "Name: feature, Length: 104, dtype: object"
      ]
     },
     "execution_count": 20,
     "metadata": {},
     "output_type": "execute_result"
    }
   ],
   "source": [
    "\n",
    "# Create a pipeline with preprocessing and Linear Regression\n",
    "pipeline = Pipeline(steps=[\n",
    "    ('preprocessor', col_transformer),\n",
    "    ('linreg', LinearRegression())\n",
    "])\n",
    "\n",
    "#Unable to run the below pipeline due to processing power constraints. \n",
    "# pipeline = Pipeline([('preprocessor', col_transformer),\n",
    "#      ('poly_features', PolynomialFeatures(degree = 2, include_bias = False)),\n",
    "#                                 ('selector', SelectFromModel(Lasso())),\n",
    "#                                     ('linreg', LinearRegression())])\n",
    "\n",
    "pipeline.fit(X_train, y_train)\n",
    "\n",
    "train_score = pipeline.score(X_train, y_train)\n",
    "print(f\"Training Score: {train_score}\")\n",
    "\n",
    "test_score = pipeline.score(X_test, y_test)\n",
    "print(f\"Test Score: {test_score}\")\n",
    "\n",
    "mean_squared_error_train = mean_squared_error(y_train, pipeline.predict(X_train))\n",
    "print(f\"Mean Squared Error on Training Set: {mean_squared_error_train}\") \n",
    "  \n",
    "mean_squared_error_test = mean_squared_error(y_test, pipeline.predict(X_test))\n",
    "print(f\"Mean Squared Error on Test Set: {mean_squared_error_test}\")\n",
    "\n",
    "reg_df = pd.DataFrame({'feature': pipeline.named_steps['preprocessor'].get_feature_names_out(), 'coef': pipeline.named_steps['linreg'].coef_})\n",
    "selected_features = reg_df.loc[reg_df['coef'] != 0].sort_values(by='coef', key=np.abs, ascending=False)\n",
    "selected_features['feature'].apply(lambda x: x.split('__')[1])\n"
   ]
  },
  {
   "cell_type": "code",
   "execution_count": 21,
   "metadata": {},
   "outputs": [
    {
     "name": "stdout",
     "output_type": "stream",
     "text": [
      "Training Score: 0.4758266926280603\n",
      "Test Score: 0.4808309952042782\n",
      "Mean Squared Error on Training Set: 86861417.9175847\n",
      "Mean Squared Error on Test Set: 85876183.60699752\n"
     ]
    },
    {
     "data": {
      "application/vnd.microsoft.datawrangler.viewer.v0+json": {
       "columns": [
        {
         "name": "index",
         "rawType": "int64",
         "type": "integer"
        },
        {
         "name": "feature",
         "rawType": "object",
         "type": "string"
        }
       ],
       "ref": "93f42a90-a8dc-41a6-b67a-894cf51845bb",
       "rows": [
        [
         "38",
         "manufacturer_tesla"
        ],
        [
         "33",
         "manufacturer_porsche"
        ],
        [
         "57",
         "fuel_diesel"
        ],
        [
         "56",
         "cylinders_other"
        ],
        [
         "51",
         "cylinders_3 cylinders"
        ],
        [
         "103",
         "odometer"
        ],
        [
         "12",
         "manufacturer_fiat"
        ],
        [
         "63",
         "title_status_lien"
        ],
        [
         "50",
         "cylinders_12 cylinders"
        ],
        [
         "71",
         "transmission_other"
        ],
        [
         "1",
         "manufacturer_alfa-romeo"
        ],
        [
         "77",
         "type_bus"
        ],
        [
         "35",
         "manufacturer_rover"
        ],
        [
         "55",
         "cylinders_8 cylinders"
        ],
        [
         "27",
         "manufacturer_mercury"
        ],
        [
         "23",
         "manufacturer_lexus"
        ],
        [
         "52",
         "cylinders_4 cylinders"
        ],
        [
         "80",
         "type_hatchback"
        ],
        [
         "3",
         "manufacturer_audi"
        ],
        [
         "85",
         "type_sedan"
        ],
        [
         "96",
         "paint_color_other"
        ],
        [
         "102",
         "year"
        ],
        [
         "88",
         "type_wagon"
        ],
        [
         "39",
         "manufacturer_toyota"
        ],
        [
         "53",
         "cylinders_5 cylinders"
        ],
        [
         "48",
         "condition_salvage"
        ],
        [
         "8",
         "manufacturer_chrysler"
        ],
        [
         "40",
         "manufacturer_unknown"
        ],
        [
         "29",
         "manufacturer_mitsubishi"
        ],
        [
         "84",
         "type_pickup"
        ],
        [
         "36",
         "manufacturer_saturn"
        ],
        [
         "62",
         "title_status_clean"
        ],
        [
         "9",
         "manufacturer_datsun"
        ],
        [
         "0",
         "manufacturer_acura"
        ],
        [
         "10",
         "manufacturer_dodge"
        ],
        [
         "73",
         "drive_fwd"
        ],
        [
         "81",
         "type_mini-van"
        ],
        [
         "31",
         "manufacturer_nissan"
        ],
        [
         "65",
         "title_status_parts only"
        ],
        [
         "76",
         "type_SUV"
        ],
        [
         "69",
         "transmission_automatic"
        ],
        [
         "92",
         "paint_color_custom"
        ],
        [
         "41",
         "manufacturer_volkswagen"
        ],
        [
         "67",
         "title_status_salvage"
        ],
        [
         "17",
         "manufacturer_hyundai"
        ],
        [
         "72",
         "drive_4wd"
        ],
        [
         "64",
         "title_status_missing"
        ],
        [
         "16",
         "manufacturer_honda"
        ],
        [
         "68",
         "title_status_unknown"
        ],
        [
         "95",
         "paint_color_orange"
        ]
       ],
       "shape": {
        "columns": 1,
        "rows": 90
       }
      },
      "text/plain": [
       "38        manufacturer_tesla\n",
       "33      manufacturer_porsche\n",
       "57               fuel_diesel\n",
       "56           cylinders_other\n",
       "51     cylinders_3 cylinders\n",
       "               ...          \n",
       "5         manufacturer_buick\n",
       "101       paint_color_yellow\n",
       "75             drive_unknown\n",
       "54     cylinders_6 cylinders\n",
       "43       condition_excellent\n",
       "Name: feature, Length: 90, dtype: object"
      ]
     },
     "execution_count": 21,
     "metadata": {},
     "output_type": "execute_result"
    }
   ],
   "source": [
    "# Create a pipeline with preprocessing and Lasso regression\n",
    "pipeline = Pipeline(steps=[\n",
    "    ('preprocessor', col_transformer),\n",
    "    ('lasso', Lasso(random_state = 42))\n",
    "])\n",
    "pipeline.fit(X_train, y_train)\n",
    "\n",
    "train_score = pipeline.score(X_train, y_train)\n",
    "print(f\"Training Score: {train_score}\")\n",
    "\n",
    "test_score = pipeline.score(X_test, y_test)\n",
    "print(f\"Test Score: {test_score}\")\n",
    "\n",
    "mean_squared_error_train = mean_squared_error(y_train, pipeline.predict(X_train))\n",
    "print(f\"Mean Squared Error on Training Set: {mean_squared_error_train}\") \n",
    "  \n",
    "mean_squared_error_test = mean_squared_error(y_test, pipeline.predict(X_test))\n",
    "print(f\"Mean Squared Error on Test Set: {mean_squared_error_test}\")\n",
    "\n",
    "lasso_df = pd.DataFrame({'feature': pipeline.named_steps['preprocessor'].get_feature_names_out(), 'coef': pipeline.named_steps['lasso'].coef_})\n",
    "selected_features = lasso_df.loc[lasso_df['coef'] != 0].sort_values(by='coef', key=np.abs, ascending=False)\n",
    "selected_features['feature'].apply(lambda x: x.split('__')[1])"
   ]
  },
  {
   "cell_type": "code",
   "execution_count": 22,
   "metadata": {},
   "outputs": [
    {
     "name": "stdout",
     "output_type": "stream",
     "text": [
      "Fitting 5 folds for each of 12 candidates, totalling 60 fits\n"
     ]
    },
    {
     "name": "stderr",
     "output_type": "stream",
     "text": [
      "c:\\Users\\nagen\\AppData\\Local\\Programs\\Python\\Python312\\Lib\\site-packages\\sklearn\\linear_model\\_coordinate_descent.py:656: ConvergenceWarning: Objective did not converge. You might want to increase the number of iterations. Duality gap: 1025254967414.8652, tolerance: 3193719923.7315574\n",
      "  model = cd_fast.sparse_enet_coordinate_descent(\n"
     ]
    },
    {
     "name": "stdout",
     "output_type": "stream",
     "text": [
      "Best parameters from GridSearchCV: {'lasso__alpha': 0.1, 'lasso__max_iter': 1000}\n",
      "Best Training Score: 0.4760400767333167\n",
      "Best Test Score: 0.4810951619690953\n",
      "Best Mean Squared Error on Training Set: 86826057.76917012\n",
      "Best Mean Squared Error on Test Set: 85832487.55929679\n"
     ]
    }
   ],
   "source": [
    "# Hyperparameter tuning using GridSearchCV\n",
    "param_grid = { \n",
    "    'lasso__alpha': [0.01, 0.1, 1, 10],\n",
    "    'lasso__max_iter': [1000, 1500, 2000]\n",
    "}\n",
    "grid_search = GridSearchCV(pipeline, param_grid, cv=5, scoring='neg_mean_squared_error', verbose=1, n_jobs=-1)\n",
    "grid_search.fit(X_train, y_train)\n",
    "\n",
    "print(\"Best parameters from GridSearchCV:\", grid_search.best_params_)\n",
    "best_pipeline = grid_search.best_estimator_\n",
    "\n",
    "best_train_score = best_pipeline.score(X_train, y_train)\n",
    "print(f\"Best Training Score: {best_train_score}\")\n",
    "\n",
    "best_test_score = best_pipeline.score(X_test, y_test)\n",
    "print(f\"Best Test Score: {best_test_score}\")\n",
    "\n",
    "best_mean_squared_error_train = mean_squared_error(y_train, best_pipeline.predict(X_train))\n",
    "print(f\"Best Mean Squared Error on Training Set: {best_mean_squared_error_train}\")\n",
    "\n",
    "best_mean_squared_error_test = mean_squared_error(y_test, best_pipeline.predict(X_test))\n",
    "print(f\"Best Mean Squared Error on Test Set: {best_mean_squared_error_test}\")\n",
    "\n"
   ]
  },
  {
   "cell_type": "code",
   "execution_count": null,
   "metadata": {},
   "outputs": [],
   "source": []
  },
  {
   "cell_type": "code",
   "execution_count": null,
   "metadata": {},
   "outputs": [],
   "source": []
  },
  {
   "cell_type": "markdown",
   "metadata": {},
   "source": [
    "### Evaluation\n",
    "\n",
    "With some modeling accomplished, we aim to reflect on what we identify as a high-quality model and what we are able to learn from this.  We should review our business objective and explore how well we can provide meaningful insight into drivers of used car prices.  Your goal now is to distill your findings and determine whether the earlier phases need revisitation and adjustment or if you have information of value to bring back to your client."
   ]
  },
  {
   "cell_type": "code",
   "execution_count": 23,
   "metadata": {},
   "outputs": [
    {
     "name": "stdout",
     "output_type": "stream",
     "text": [
      "                     feature          coef\n",
      "38        manufacturer_tesla  13691.206005\n",
      "30       manufacturer_morgan  13446.874018\n",
      "11      manufacturer_ferrari  -9225.207193\n",
      "33      manufacturer_porsche   7267.787021\n",
      "9        manufacturer_datsun   6663.190221\n",
      "56           cylinders_other  -6629.553786\n",
      "57               fuel_diesel   6496.732045\n",
      "51     cylinders_3 cylinders  -6489.009697\n",
      "1    manufacturer_alfa-romeo   6012.776384\n",
      "12         manufacturer_fiat  -5061.439335\n",
      "103                 odometer  -5009.378219\n",
      "50    cylinders_12 cylinders   4995.224472\n",
      "63         title_status_lien   4362.263641\n",
      "52     cylinders_4 cylinders  -3892.641407\n",
      "77                  type_bus  -3815.636168\n",
      "65   title_status_parts only  -3795.623644\n",
      "35        manufacturer_rover   3621.669084\n",
      "27      manufacturer_mercury  -3593.337717\n",
      "53     cylinders_5 cylinders  -3529.047451\n",
      "69    transmission_automatic  -3353.948422\n"
     ]
    },
    {
     "data": {
      "image/png": "[encoded data removed]",
      "text/plain": [
       "<Figure size 1500x500 with 1 Axes>"
      ]
     },
     "metadata": {},
     "output_type": "display_data"
    }
   ],
   "source": [
    "# Feature importance from the best model\n",
    "best_lasso_df = pd.DataFrame({'feature': best_pipeline.named_steps['preprocessor'].get_feature_names_out(), 'coef': best_pipeline.named_steps['lasso'].coef_})\n",
    "top_features = best_lasso_df.loc[best_lasso_df['coef'] != 0].sort_values(by='coef', key=np.abs, ascending=False).head(20)\n",
    "top_features['feature'] = top_features['feature'].apply(lambda x: x.split('__')[1])\n",
    "\n",
    "print(top_features)\n",
    "\n",
    "# Plot\n",
    "plt.figure(figsize=(15, 5))\n",
    "sns.barplot(x=top_features['feature'], y=top_features['coef'].abs())\n",
    "plt.title('Top 20 Features Influencing Used Car Price')\n",
    "plt.xticks(rotation=80)\n",
    "plt.xlabel('Feature')\n",
    "plt.ylabel('Coefficient Absolute Value')\n",
    "plt.show()"
   ]
  },
  {
   "cell_type": "code",
   "execution_count": null,
   "metadata": {},
   "outputs": [],
   "source": []
  },
  {
   "cell_type": "code",
   "execution_count": null,
   "metadata": {},
   "outputs": [],
   "source": []
  },
  {
   "cell_type": "code",
   "execution_count": null,
   "metadata": {},
   "outputs": [],
   "source": []
  },
  {
   "cell_type": "code",
   "execution_count": null,
   "metadata": {},
   "outputs": [],
   "source": []
  },
  {
   "cell_type": "code",
   "execution_count": null,
   "metadata": {},
   "outputs": [],
   "source": []
  },
  {
   "cell_type": "markdown",
   "metadata": {},
   "source": [
    "### Deployment\n",
    "\n",
    "Now that we've settled on our models and findings, it is time to deliver the information to the client.  You should organize your work as a basic report that details your primary findings.  Keep in mind that your audience is a group of used car dealers interested in fine-tuning their inventory."
   ]
  },
  {
   "cell_type": "code",
   "execution_count": 24,
   "metadata": {},
   "outputs": [
    {
     "name": "stdout",
     "output_type": "stream",
     "text": [
      "Based on the analysis, features such as **manufacturer**, **cylenders**, **odometer**, **title status**, **type** and **transmission** play significant roles in determining a used car's price. This insight can guide dealerships to prioritize these attributes in listings and pricing algorithms.\n"
     ]
    }
   ],
   "source": [
    "print(\"\"\"Based on the analysis, features such as **manufacturer**, **cylenders**, **odometer**, **title status**, **type** and **transmission** play significant roles in determining a used car's price. This insight can guide dealerships to prioritize these attributes in listings and pricing algorithms.\"\"\")"
   ]
  },
  {
   "cell_type": "code",
   "execution_count": 25,
   "metadata": {},
   "outputs": [
    {
     "name": "stdout",
     "output_type": "stream",
     "text": [
      "The Analysis assumes a linear relationship between different features and price. A non-linear analysis may capture more variance and produce better score\n"
     ]
    }
   ],
   "source": [
    "print(\"\"\"The Analysis assumes a linear relationship between different features and price. A non-linear analysis may capture more variance and produce better score\"\"\")"
   ]
  },
  {
   "cell_type": "code",
   "execution_count": null,
   "metadata": {},
   "outputs": [],
   "source": []
  },
  {
   "cell_type": "code",
   "execution_count": null,
   "metadata": {},
   "outputs": [],
   "source": []
  },
  {
   "cell_type": "code",
   "execution_count": null,
   "metadata": {},
   "outputs": [],
   "source": []
  },
  {
   "cell_type": "code",
   "execution_count": null,
   "metadata": {},
   "outputs": [],
   "source": []
  }
 ],
 "metadata": {
  "kernelspec": {
   "display_name": "Python 3",
   "language": "python",
   "name": "python3"
  },
  "language_info": {
   "codemirror_mode": {
    "name": "ipython",
    "version": 3
   },
   "file_extension": ".py",
   "mimetype": "text/x-python",
   "name": "python",
   "nbconvert_exporter": "python",
   "pygments_lexer": "ipython3",
   "version": "3.12.6"
  },
  "widgets": {
   "application/vnd.jupyter.widget-state+json": {
    "state": {},
    "version_major": 2,
    "version_minor": 0
   }
  }
 },
 "nbformat": 4,
 "nbformat_minor": 4
}
